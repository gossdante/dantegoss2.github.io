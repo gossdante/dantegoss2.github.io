{
  "nbformat": 4,
  "nbformat_minor": 0,
  "metadata": {
    "colab": {
      "provenance": []
    },
    "kernelspec": {
      "name": "python3",
      "display_name": "Python 3"
    },
    "language_info": {
      "name": "python"
    }
  },
  "cells": [
    {
      "cell_type": "markdown",
      "source": [
        "# The goal of this document is to scrape some ebay data to get \"street\" prices for computer parts from ebay.\n"
      ],
      "metadata": {
        "id": "Ml65Ivgoyurg"
      }
    },
    {
      "cell_type": "code",
      "execution_count": 1,
      "metadata": {
        "id": "1Yt36ZmoyrTM"
      },
      "outputs": [],
      "source": [
        "from bs4 import BeautifulSoup\n",
        "import ssl\n",
        "import urllib.request, urllib.parse\n",
        "import pandas as pd\n",
        "import time"
      ]
    },
    {
      "cell_type": "code",
      "source": [
        "# GPU's, CPU's, and Motherboards I want to search\n",
        "GPUs=['RTX 4090', 'RTX 4080', 'RX 7900 XTX', 'RTX 4070 Ti', 'RTX 3090 Ti',\n",
        "      'RX 6950 XT', 'RX 7900 XT', 'RTX 3080 Ti', 'RTX 3090', 'RTX 3080',\n",
        "      'RX 6900', 'RX 6800', 'RTX 3070', 'RTX 3070 Ti', 'RTX 2080 Ti',\n",
        "      'RX 6800 XT', 'RX 6750 XT', 'RTX 3060 Ti', 'RX 6700 XT', 'RTX 2080 super',\n",
        "      'RTX 2080', 'GTX 1080 Ti', 'RTX 2070 Super', 'RX 6650 XT', 'RTX 3060',\n",
        "      'RX 5700 XT', 'RTX 2060 Super', 'RX 6600 XT', 'RTX 2070', 'RTX 2060',\n",
        "      'GTX 1080', 'RX 6600', 'RX 5700', 'GTX 1070 Ti', 'RTX 2060', 'GTX 980 Ti',\n",
        "      'RX 5600 XT', 'GTX 1070', 'GTX 1660 Super', 'GTX 1660', 'GTX 3050',\n",
        "      'GTX 1650 Super','GTX 1060','RX 6500 XT', 'GTX 760 Ti', 'GTX 750 Ti',\n",
        "      'GTX 1050']\n",
        "CPUs= ['Ryzen 5 3600', 'Ryzen 5 5500', 'Ryzen 5 5600', 'Ryzen 5 4600G',\n",
        "       'Ryzen 7 2700X', 'Ryzen 5 3600X', 'Ryzen 7 4700', 'Ryzen 7 5700',\n",
        "       'Ryzen 5 5600X', 'Ryzen 7 5800', 'Ryzen 5 7600X', 'Ryzen 5 7600',\n",
        "       'Ryzen 9 5900', 'Ryzen 9 3950X']\n",
        "Motherboards= ['b450', 'b550', 'b460', 'b560']"
      ],
      "metadata": {
        "id": "Yivln-nqOwUm"
      },
      "execution_count": 2,
      "outputs": []
    },
    {
      "cell_type": "markdown",
      "source": [
        "Things to do.\n",
        "1. make a loop that goes through all the items in the GPUs list.\n",
        "2. For each item in the loop, replace the space with +.\n",
        "3. Do a search for those terms & make a similar dataframe to before\n",
        "4. Put the name, min, max, mean, sd in a master dataframe."
      ],
      "metadata": {
        "id": "-q2H4WL-TLlg"
      }
    },
    {
      "cell_type": "code",
      "source": [
        "master_df = pd.DataFrame(columns=['name', 'min price', 'mean price', 'max price'])\n",
        "master_df['name']=GPUs\n",
        "# what is the length of GPUs?\n",
        "# print('Number of GPUs to search: ',len(GPUs))\n",
        "# 'https://www.ebay.com/sch/27386/i.html?_from=R40&_nkw=RX%206950%20XT&LH_ItemCondition=1500%7C2000%7C2500%7C3000%7C1000&LH_Sold=1&LH_Complete=1&_ipg=240&rt=nc&_udlo=50'\n",
        "# what is the string to put the search in?\n",
        "urlp1=\"https://www.ebay.com/sch/27386/i.html?_from=R40&_nkw=\"\n",
        "urlp2=\"&LH_ItemCondition=1500%7C2000%7C2500%7C3000%7C1000&LH_Sold=1&LH_Complete=1&_ipg=240&rt=nc&_udlo=50\"\n",
        "j=0\n",
        "for gpu in GPUs:\n",
        "  searchstr=(gpu.replace(\" \", \"%20\"))\n",
        "  url=str.join(\"\", [urlp1,searchstr,urlp2])\n",
        "  #print(url)\n",
        "  html=urllib.request.urlopen(url).read()\n",
        "  soup=BeautifulSoup(html,'html.parser')\n",
        "  main_data=soup.find_all('div',class_=\"s-item__info clearfix\")\n",
        "\n",
        "  names=[]\n",
        "  prices=[]\n",
        "  i=0\n",
        "  for line in main_data:\n",
        "    #print(i)\n",
        "    if \"to\" not in line.find(\"span\",class_=\"s-item__price\").get_text():\n",
        "      #print(\"yes\")\n",
        "      names.append(line.select_one(\".s-item__title span\").text)\n",
        "      prices.append(line.find(\"span\",class_=\"s-item__price\").get_text())\n",
        "\n",
        "    #df['price'][i]=price\n",
        "  prices = [price.replace(\"$\", \"\") for price in prices]\n",
        "  prices = [price.replace(\",\", \"\") for price in prices]\n",
        "  prices = [float(price) for price in prices]\n",
        "  #prices=float(prices)\n",
        "  df = pd.DataFrame({\n",
        "    \"name\": names,\n",
        "    \"price\": prices\n",
        "  })\n",
        "  df=df.drop(0)\n",
        "  #print('Max Price',df['price'].max())\n",
        "  #print('Mean Price',df['price'].mean())\n",
        "  #print('Min Price',df['price'].min())\n",
        "\n",
        "#time.sleep(0.1)\n",
        "  master_df['min price'][j]=df['price'].min()\n",
        "  master_df['mean price'][j]=df['price'].mean()\n",
        "  master_df['max price'][j]=df['price'].max()\n",
        "  j=j+1\n",
        "  #print(master_df.head())\n",
        "\n"
      ],
      "metadata": {
        "id": "VNizQohPTqa9"
      },
      "execution_count": 3,
      "outputs": []
    },
    {
      "cell_type": "code",
      "source": [
        "print(master_df)"
      ],
      "metadata": {
        "colab": {
          "base_uri": "https://localhost:8080/"
        },
        "id": "2wn3SH1aMmIx",
        "outputId": "40288b64-e0ee-4bb6-e330-f0cb9ca49fdf"
      },
      "execution_count": 4,
      "outputs": [
        {
          "output_type": "stream",
          "name": "stdout",
          "text": [
            "              name min price   mean price max price\n",
            "0         RTX 4090     390.0  1608.450625    4000.0\n",
            "1         RTX 4080    174.45   893.395083   1836.47\n",
            "2      RX 7900 XTX    348.99   801.369958    5400.0\n",
            "3      RTX 4070 Ti      50.0   649.909623    1240.8\n",
            "4      RTX 3090 Ti     79.99   748.848667    1775.0\n",
            "5       RX 6950 XT    448.89   568.597829     849.0\n",
            "6       RX 7900 XT     430.0   682.216642    978.02\n",
            "7      RTX 3080 Ti     250.0   612.698042    2565.0\n",
            "8         RTX 3090     79.99   748.997667    1775.0\n",
            "9         RTX 3080     250.0   494.421208   1117.99\n",
            "10         RX 6900      50.0   521.672083    1300.0\n",
            "11         RX 6800     127.5    409.69125   1429.99\n",
            "12        RTX 3070     199.0     321.0765    689.75\n",
            "13     RTX 3070 Ti     199.0   321.713833    895.41\n",
            "14     RTX 2080 Ti     59.95   345.211375     965.0\n",
            "15      RX 6800 XT     127.5   436.225083   1429.99\n",
            "16      RX 6750 XT     255.0   318.173854    498.29\n",
            "17     RTX 3060 Ti     156.5   248.399167    474.18\n",
            "18      RX 6700 XT      99.0    271.81725    856.99\n",
            "19  RTX 2080 super     59.95   233.068125    479.95\n",
            "20        RTX 2080     59.95     297.0785     965.0\n",
            "21     GTX 1080 Ti      61.0   183.697875     465.0\n",
            "22  RTX 2070 Super     59.95   198.630667    374.99\n",
            "23      RX 6650 XT     100.0   206.616396    679.99\n",
            "24        RTX 3060      56.0   240.172917     500.0\n",
            "25      RX 5700 XT     70.11   139.833417     400.0\n",
            "26  RTX 2060 Super      99.0    165.87525    274.99\n",
            "27      RX 6600 XT     110.0   178.047125    1360.0\n",
            "28        RTX 2070     59.95   185.863125    586.01\n",
            "29        RTX 2060      82.0   157.454792     570.0\n",
            "30        GTX 1080      61.0   154.951833     426.5\n",
            "31         RX 6600     100.0    168.43725    1360.0\n",
            "32         RX 5700      65.0      134.244    299.99\n",
            "33     GTX 1070 Ti      50.0   106.886875     210.0\n",
            "34        RTX 2060      82.0   157.683375     570.0\n",
            "35      GTX 980 Ti      50.0     94.57392    379.99\n",
            "36      RX 5600 XT      60.0   109.589458     600.0\n",
            "37        GTX 1070      58.8    99.379038    495.95\n",
            "38  GTX 1660 Super      53.0     104.8985    199.99\n",
            "39        GTX 1660      54.0     103.3435     200.0\n",
            "40        GTX 3050     100.0   248.365263     495.0\n",
            "41  GTX 1650 Super      50.0    93.561833    306.77\n",
            "42        GTX 1060      50.0    78.154603    537.32\n",
            "43      RX 6500 XT      50.0    95.285455    264.42\n",
            "44      GTX 760 Ti      50.0    72.979793     465.0\n",
            "45      GTX 750 Ti      50.0       70.686    239.72\n",
            "46        GTX 1050      50.0    79.620167    251.16\n"
          ]
        }
      ]
    },
    {
      "cell_type": "markdown",
      "source": [
        "# CPU's"
      ],
      "metadata": {
        "id": "2HAHDDjFOUPn"
      }
    },
    {
      "cell_type": "code",
      "source": [
        "cpu_master_df = pd.DataFrame(columns=['name', 'min price', 'mean price', 'max price'])\n",
        "cpu_master_df['name']=CPUs\n",
        "# 'https://www.ebay.com/sch/i.html?_from=R40&_nkw=ryzen+5+3600&_sacat=164&LH_Sold=1&LH_Complete=1&rt=nc&LH_ItemCondition=1000%7C1500%7C2500%7C3000&_ipg=240'\n",
        "# what is the string to put the search in?\n",
        "urlp1=\"https://www.ebay.com/sch/i.html?_from=R40&_nkw=\"\n",
        "urlp2=\"&_sacat=164&LH_Sold=1&LH_Complete=1&rt=nc&LH_ItemCondition=1000%7C1500%7C2500%7C3000&_ipg=240\"\n",
        "j=0\n",
        "for cpu in CPUs:\n",
        "  searchstr=(cpu.replace(\" \", \"+\"))\n",
        "  url=str.join(\"\", [urlp1,searchstr,urlp2])\n",
        "  #print(url)\n",
        "  html=urllib.request.urlopen(url).read()\n",
        "  soup=BeautifulSoup(html,'html.parser')\n",
        "  main_data=soup.find_all('div',class_=\"s-item__info clearfix\")\n",
        "\n",
        "  names=[]\n",
        "  prices=[]\n",
        "  i=0\n",
        "  for line in main_data:\n",
        "    #print(i)\n",
        "    if \"to\" not in line.find(\"span\",class_=\"s-item__price\").get_text():\n",
        "      #print(\"yes\")\n",
        "      names.append(line.select_one(\".s-item__title span\").text)\n",
        "      prices.append(line.find(\"span\",class_=\"s-item__price\").get_text())\n",
        "\n",
        "    #df['price'][i]=price\n",
        "  prices = [price.replace(\"$\", \"\") for price in prices]\n",
        "  prices = [price.replace(\",\", \"\") for price in prices]\n",
        "  prices = [float(price) for price in prices]\n",
        "  #prices=float(prices)\n",
        "  df = pd.DataFrame({\n",
        "    \"name\": names,\n",
        "    \"price\": prices\n",
        "  })\n",
        "  df=df.drop(0)\n",
        "  #print('Max Price',df['price'].max())\n",
        "  #print('Mean Price',df['price'].mean())\n",
        "  #print('Min Price',df['price'].min())\n",
        "\n",
        "#time.sleep(0.1)\n",
        "  cpu_master_df['min price'][j]=df['price'].min()\n",
        "  cpu_master_df['mean price'][j]=df['price'].mean()\n",
        "  cpu_master_df['max price'][j]=df['price'].max()\n",
        "  j=j+1\n",
        "  #print(master_df.head())\n",
        "\n",
        "print(cpu_master_df)"
      ],
      "metadata": {
        "colab": {
          "base_uri": "https://localhost:8080/"
        },
        "id": "UX_ZauzeOVsa",
        "outputId": "1c0fd07c-09d6-4505-d019-047bc0024cde"
      },
      "execution_count": 5,
      "outputs": [
        {
          "output_type": "stream",
          "name": "stdout",
          "text": [
            "             name min price  mean price max price\n",
            "0    Ryzen 5 3600      33.0   70.748213     241.5\n",
            "1    Ryzen 5 5500      50.0   83.893776     184.0\n",
            "2    Ryzen 5 5600      1.04  122.680212     325.0\n",
            "3   Ryzen 5 4600G     13.11   69.023745    143.56\n",
            "4   Ryzen 7 2700X      27.0   68.579731     157.5\n",
            "5   Ryzen 5 3600X      35.0   75.843067    229.95\n",
            "6    Ryzen 7 4700      21.5  144.200732    371.55\n",
            "7    Ryzen 7 5700     10.99  148.918792     285.0\n",
            "8   Ryzen 5 5600X     29.99  132.423983     325.0\n",
            "9    Ryzen 7 5800       5.0  205.142255     500.0\n",
            "10  Ryzen 5 7600X     89.99  197.200753    284.99\n",
            "11   Ryzen 5 7600     89.99  195.722596    284.99\n",
            "12   Ryzen 9 5900     150.0  250.934034    531.24\n",
            "13  Ryzen 9 3950X     150.0  282.228861     500.0\n"
          ]
        }
      ]
    },
    {
      "cell_type": "markdown",
      "source": [
        "# Motherboards"
      ],
      "metadata": {
        "id": "iToMRcM8cw3U"
      }
    },
    {
      "cell_type": "markdown",
      "source": [
        "M"
      ],
      "metadata": {
        "id": "h4-FAalycwoe"
      }
    },
    {
      "cell_type": "code",
      "source": [
        "moth_master_df = pd.DataFrame(columns=['name', 'min price', 'mean price', 'max price'])\n",
        "moth_master_df['name']= Motherboards\n",
        "# 'https://www.ebay.com/sch/i.html?_from=R40&_nkw=b450%20&_sacat=1244&LH_TitleDesc=0&LH_Sold=1&LH_Complete=1&LH_ItemCondition=1000%7C1500%7C2500%7C3000&_ipg=240&rt=nc&_udlo=30'\n",
        "# what is the string to put the search in?\n",
        "urlp1=\"https://www.ebay.com/sch/i.html?_from=R40&_nkw=\"\n",
        "urlp2=\"%20&_sacat=1244&LH_TitleDesc=0&LH_Sold=1&LH_Complete=1&LH_ItemCondition=1000%7C1500%7C2500%7C3000&_ipg=240&rt=nc&_udlo=30\"\n",
        "j=0\n",
        "for moth in Motherboards:\n",
        "  searchstr=(moth.replace(\" \", \"+\"))\n",
        "  url=str.join(\"\", [urlp1,searchstr,urlp2])\n",
        "  #print(url)\n",
        "  html=urllib.request.urlopen(url).read()\n",
        "  soup=BeautifulSoup(html,'html.parser')\n",
        "  main_data=soup.find_all('div',class_=\"s-item__info clearfix\")\n",
        "\n",
        "  names=[]\n",
        "  prices=[]\n",
        "  i=0\n",
        "  for line in main_data:\n",
        "    #print(i)\n",
        "    if \"to\" not in line.find(\"span\",class_=\"s-item__price\").get_text():\n",
        "      #print(\"yes\")\n",
        "      names.append(line.select_one(\".s-item__title span\").text)\n",
        "      prices.append(line.find(\"span\",class_=\"s-item__price\").get_text())\n",
        "\n",
        "    #df['price'][i]=price\n",
        "  prices = [price.replace(\"$\", \"\") for price in prices]\n",
        "  prices = [price.replace(\",\", \"\") for price in prices]\n",
        "  prices = [float(price) for price in prices]\n",
        "  #prices=float(prices)\n",
        "  df = pd.DataFrame({\n",
        "    \"name\": names,\n",
        "    \"price\": prices\n",
        "  })\n",
        "  df=df.drop(0)\n",
        "  #print('Max Price',df['price'].max())\n",
        "  #print('Mean Price',df['price'].mean())\n",
        "  #print('Min Price',df['price'].min())\n",
        "\n",
        "#time.sleep(0.1)\n",
        "  moth_master_df['min price'][j]=df['price'].min()\n",
        "  moth_master_df['mean price'][j]=df['price'].mean()\n",
        "  moth_master_df['max price'][j]=df['price'].max()\n",
        "  j=j+1\n",
        "  #print(master_df.head())\n",
        "\n",
        "print(moth_master_df)"
      ],
      "metadata": {
        "colab": {
          "base_uri": "https://localhost:8080/"
        },
        "id": "1JiRf-UVcugH",
        "outputId": "edb647e6-4e2f-4f8a-e38b-421e14b8e3e7"
      },
      "execution_count": 6,
      "outputs": [
        {
          "output_type": "stream",
          "name": "stdout",
          "text": [
            "   name min price  mean price max price\n",
            "0  b450      31.0   79.164603    349.99\n",
            "1  b550     34.09  105.349874     371.0\n",
            "2  b460      30.0   87.572527    321.98\n",
            "3  b560      33.0   90.912958    291.03\n"
          ]
        }
      ]
    },
    {
      "cell_type": "code",
      "source": [],
      "metadata": {
        "id": "ae3v7L00pXO3"
      },
      "execution_count": null,
      "outputs": []
    }
  ]
}